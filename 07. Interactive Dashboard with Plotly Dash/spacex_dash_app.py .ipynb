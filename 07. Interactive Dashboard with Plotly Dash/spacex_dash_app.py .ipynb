{
 "cells": [
  {
   "cell_type": "code",
   "execution_count": 1,
   "id": "7bdaa883",
   "metadata": {},
   "outputs": [],
   "source": [
    "# Install pip\n",
    "# Note: Before run this coding, write pip install at the command centre of Anaconda Power Shell/terminal \n",
    "# pip3 install pandas dash\n",
    "# pip install jupyter-dash\n",
    "\n",
    "# Import required libraries\n",
    "import pandas as pd\n",
    "import dash\n",
    "from dash import dcc\n",
    "from dash import html\n",
    "from dash.dependencies import Input, Output, State\n",
    "from jupyter_dash import JupyterDash\n",
    "import plotly.graph_objects as go\n",
    "import plotly.express as px\n",
    "from dash import no_update\n",
    "\n",
    "\n",
    "# Create a dash application\n",
    "app = JupyterDash(__name__)"
   ]
  },
  {
   "cell_type": "markdown",
   "id": "72e87ce6",
   "metadata": {},
   "source": [
    "### 1. Import required libraries"
   ]
  },
  {
   "cell_type": "code",
   "execution_count": 2,
   "id": "fce9c491",
   "metadata": {},
   "outputs": [
    {
     "name": "stdout",
     "output_type": "stream",
     "text": [
      "Requirement already satisfied: pandas in c:\\users\\farhanah\\anaconda3\\lib\\site-packages (1.4.2)\n",
      "Requirement already satisfied: dash in c:\\users\\farhanah\\anaconda3\\lib\\site-packages (2.4.1)\n",
      "Requirement already satisfied: pytz>=2020.1 in c:\\users\\farhanah\\anaconda3\\lib\\site-packages (from pandas) (2021.3)\n",
      "Requirement already satisfied: python-dateutil>=2.8.1 in c:\\users\\farhanah\\anaconda3\\lib\\site-packages (from pandas) (2.8.2)\n",
      "Requirement already satisfied: numpy>=1.18.5 in c:\\users\\farhanah\\anaconda3\\lib\\site-packages (from pandas) (1.22.4)\n",
      "Requirement already satisfied: Flask>=1.0.4 in c:\\users\\farhanah\\anaconda3\\lib\\site-packages (from dash) (2.0.3)\n",
      "Requirement already satisfied: flask-compress in c:\\users\\farhanah\\anaconda3\\lib\\site-packages (from dash) (1.12)\n",
      "Requirement already satisfied: dash-core-components==2.0.0 in c:\\users\\farhanah\\anaconda3\\lib\\site-packages (from dash) (2.0.0)\n",
      "Requirement already satisfied: plotly>=5.0.0 in c:\\users\\farhanah\\anaconda3\\lib\\site-packages (from dash) (5.6.0)\n",
      "Requirement already satisfied: dash-table==5.0.0 in c:\\users\\farhanah\\anaconda3\\lib\\site-packages (from dash) (5.0.0)\n",
      "Requirement already satisfied: dash-html-components==2.0.0 in c:\\users\\farhanah\\anaconda3\\lib\\site-packages (from dash) (2.0.0)\n",
      "Requirement already satisfied: click>=7.1.2 in c:\\users\\farhanah\\anaconda3\\lib\\site-packages (from Flask>=1.0.4->dash) (8.0.4)\n",
      "Requirement already satisfied: itsdangerous>=2.0 in c:\\users\\farhanah\\anaconda3\\lib\\site-packages (from Flask>=1.0.4->dash) (2.0.1)\n",
      "Requirement already satisfied: Jinja2>=3.0 in c:\\users\\farhanah\\anaconda3\\lib\\site-packages (from Flask>=1.0.4->dash) (3.0.3)\n",
      "Requirement already satisfied: Werkzeug>=2.0 in c:\\users\\farhanah\\anaconda3\\lib\\site-packages (from Flask>=1.0.4->dash) (2.0.3)\n",
      "Requirement already satisfied: colorama in c:\\users\\farhanah\\anaconda3\\lib\\site-packages (from click>=7.1.2->Flask>=1.0.4->dash) (0.4.4)\n",
      "Requirement already satisfied: MarkupSafe>=2.0 in c:\\users\\farhanah\\anaconda3\\lib\\site-packages (from Jinja2>=3.0->Flask>=1.0.4->dash) (2.1.1)\n",
      "Requirement already satisfied: tenacity>=6.2.0 in c:\\users\\farhanah\\anaconda3\\lib\\site-packages (from plotly>=5.0.0->dash) (8.0.1)\n",
      "Requirement already satisfied: six in c:\\users\\farhanah\\anaconda3\\lib\\site-packages (from plotly>=5.0.0->dash) (1.16.0)\n",
      "Requirement already satisfied: brotli in c:\\users\\farhanah\\anaconda3\\lib\\site-packages (from flask-compress->dash) (1.0.9)\n",
      "Requirement already satisfied: jupyter-dash in c:\\users\\farhanah\\anaconda3\\lib\\site-packages (0.4.2)\n",
      "Requirement already satisfied: flask in c:\\users\\farhanah\\anaconda3\\lib\\site-packages (from jupyter-dash) (2.0.3)\n",
      "Requirement already satisfied: dash in c:\\users\\farhanah\\anaconda3\\lib\\site-packages (from jupyter-dash) (2.4.1)\n",
      "Requirement already satisfied: requests in c:\\users\\farhanah\\anaconda3\\lib\\site-packages (from jupyter-dash) (2.27.1)\n",
      "Requirement already satisfied: ansi2html in c:\\users\\farhanah\\anaconda3\\lib\\site-packages (from jupyter-dash) (1.7.0)\n",
      "Requirement already satisfied: nest-asyncio in c:\\users\\farhanah\\anaconda3\\lib\\site-packages (from jupyter-dash) (1.5.5)\n",
      "Requirement already satisfied: retrying in c:\\users\\farhanah\\anaconda3\\lib\\site-packages (from jupyter-dash) (1.3.3)\n",
      "Requirement already satisfied: ipython in c:\\users\\farhanah\\anaconda3\\lib\\site-packages (from jupyter-dash) (8.3.0)\n",
      "Requirement already satisfied: ipykernel in c:\\users\\farhanah\\anaconda3\\lib\\site-packages (from jupyter-dash) (6.9.1)\n",
      "Requirement already satisfied: dash-core-components==2.0.0 in c:\\users\\farhanah\\anaconda3\\lib\\site-packages (from dash->jupyter-dash) (2.0.0)\n",
      "Requirement already satisfied: dash-html-components==2.0.0 in c:\\users\\farhanah\\anaconda3\\lib\\site-packages (from dash->jupyter-dash) (2.0.0)\n",
      "Requirement already satisfied: flask-compress in c:\\users\\farhanah\\anaconda3\\lib\\site-packages (from dash->jupyter-dash) (1.12)\n",
      "Requirement already satisfied: dash-table==5.0.0 in c:\\users\\farhanah\\anaconda3\\lib\\site-packages (from dash->jupyter-dash) (5.0.0)\n",
      "Requirement already satisfied: plotly>=5.0.0 in c:\\users\\farhanah\\anaconda3\\lib\\site-packages (from dash->jupyter-dash) (5.6.0)\n",
      "Requirement already satisfied: click>=7.1.2 in c:\\users\\farhanah\\anaconda3\\lib\\site-packages (from flask->jupyter-dash) (8.0.4)\n",
      "Requirement already satisfied: Jinja2>=3.0 in c:\\users\\farhanah\\anaconda3\\lib\\site-packages (from flask->jupyter-dash) (3.0.3)\n",
      "Requirement already satisfied: itsdangerous>=2.0 in c:\\users\\farhanah\\anaconda3\\lib\\site-packages (from flask->jupyter-dash) (2.0.1)\n",
      "Requirement already satisfied: Werkzeug>=2.0 in c:\\users\\farhanah\\anaconda3\\lib\\site-packages (from flask->jupyter-dash) (2.0.3)\n",
      "Requirement already satisfied: colorama in c:\\users\\farhanah\\anaconda3\\lib\\site-packages (from click>=7.1.2->flask->jupyter-dash) (0.4.4)\n",
      "Requirement already satisfied: MarkupSafe>=2.0 in c:\\users\\farhanah\\anaconda3\\lib\\site-packages (from Jinja2>=3.0->flask->jupyter-dash) (2.1.1)\n",
      "Requirement already satisfied: tenacity>=6.2.0 in c:\\users\\farhanah\\anaconda3\\lib\\site-packages (from plotly>=5.0.0->dash->jupyter-dash) (8.0.1)\n",
      "Requirement already satisfied: six in c:\\users\\farhanah\\anaconda3\\lib\\site-packages (from plotly>=5.0.0->dash->jupyter-dash) (1.16.0)\n",
      "Requirement already satisfied: brotli in c:\\users\\farhanah\\anaconda3\\lib\\site-packages (from flask-compress->dash->jupyter-dash) (1.0.9)\n",
      "Requirement already satisfied: tornado<7.0,>=4.2 in c:\\users\\farhanah\\anaconda3\\lib\\site-packages (from ipykernel->jupyter-dash) (6.1)\n",
      "Requirement already satisfied: matplotlib-inline<0.2.0,>=0.1.0 in c:\\users\\farhanah\\anaconda3\\lib\\site-packages (from ipykernel->jupyter-dash) (0.1.2)\n",
      "Requirement already satisfied: jupyter-client<8.0 in c:\\users\\farhanah\\anaconda3\\lib\\site-packages (from ipykernel->jupyter-dash) (7.2.2)\n",
      "Requirement already satisfied: debugpy<2.0,>=1.0.0 in c:\\users\\farhanah\\anaconda3\\lib\\site-packages (from ipykernel->jupyter-dash) (1.5.1)\n",
      "Requirement already satisfied: traitlets<6.0,>=5.1.0 in c:\\users\\farhanah\\anaconda3\\lib\\site-packages (from ipykernel->jupyter-dash) (5.1.1)\n",
      "Requirement already satisfied: prompt-toolkit!=3.0.0,!=3.0.1,<3.1.0,>=2.0.0 in c:\\users\\farhanah\\anaconda3\\lib\\site-packages (from ipython->jupyter-dash) (3.0.20)\n",
      "Requirement already satisfied: decorator in c:\\users\\farhanah\\anaconda3\\lib\\site-packages (from ipython->jupyter-dash) (5.1.1)\n",
      "Requirement already satisfied: stack-data in c:\\users\\farhanah\\anaconda3\\lib\\site-packages (from ipython->jupyter-dash) (0.2.0)\n",
      "Requirement already satisfied: backcall in c:\\users\\farhanah\\anaconda3\\lib\\site-packages (from ipython->jupyter-dash) (0.2.0)\n",
      "Requirement already satisfied: jedi>=0.16 in c:\\users\\farhanah\\anaconda3\\lib\\site-packages (from ipython->jupyter-dash) (0.17.1)\n",
      "Requirement already satisfied: pygments>=2.4.0 in c:\\users\\farhanah\\anaconda3\\lib\\site-packages (from ipython->jupyter-dash) (2.11.2)\n",
      "Requirement already satisfied: setuptools>=18.5 in c:\\users\\farhanah\\anaconda3\\lib\\site-packages (from ipython->jupyter-dash) (62.4.0)\n",
      "Requirement already satisfied: pickleshare in c:\\users\\farhanah\\anaconda3\\lib\\site-packages (from ipython->jupyter-dash) (0.7.5)\n",
      "Requirement already satisfied: parso<0.8.0,>=0.7.0 in c:\\users\\farhanah\\anaconda3\\lib\\site-packages (from jedi>=0.16->ipython->jupyter-dash) (0.7.0)\n",
      "Requirement already satisfied: jupyter-core>=4.9.2 in c:\\users\\farhanah\\anaconda3\\lib\\site-packages (from jupyter-client<8.0->ipykernel->jupyter-dash) (4.10.0)\n",
      "Requirement already satisfied: python-dateutil>=2.8.2 in c:\\users\\farhanah\\anaconda3\\lib\\site-packages (from jupyter-client<8.0->ipykernel->jupyter-dash) (2.8.2)\n",
      "Requirement already satisfied: pyzmq>=22.3 in c:\\users\\farhanah\\anaconda3\\lib\\site-packages (from jupyter-client<8.0->ipykernel->jupyter-dash) (22.3.0)\n",
      "Requirement already satisfied: entrypoints in c:\\users\\farhanah\\anaconda3\\lib\\site-packages (from jupyter-client<8.0->ipykernel->jupyter-dash) (0.4)\n",
      "Requirement already satisfied: pywin32>=1.0 in c:\\users\\farhanah\\anaconda3\\lib\\site-packages (from jupyter-core>=4.9.2->jupyter-client<8.0->ipykernel->jupyter-dash) (302)\n",
      "Requirement already satisfied: wcwidth in c:\\users\\farhanah\\anaconda3\\lib\\site-packages (from prompt-toolkit!=3.0.0,!=3.0.1,<3.1.0,>=2.0.0->ipython->jupyter-dash) (0.2.5)\n",
      "Requirement already satisfied: idna<4,>=2.5 in c:\\users\\farhanah\\anaconda3\\lib\\site-packages (from requests->jupyter-dash) (3.3)\n",
      "Requirement already satisfied: charset-normalizer~=2.0.0 in c:\\users\\farhanah\\anaconda3\\lib\\site-packages (from requests->jupyter-dash) (2.0.4)\n",
      "Requirement already satisfied: urllib3<1.27,>=1.21.1 in c:\\users\\farhanah\\anaconda3\\lib\\site-packages (from requests->jupyter-dash) (1.26.9)\n",
      "Requirement already satisfied: certifi>=2017.4.17 in c:\\users\\farhanah\\anaconda3\\lib\\site-packages (from requests->jupyter-dash) (2022.5.18.1)\n",
      "Requirement already satisfied: pure-eval in c:\\users\\farhanah\\anaconda3\\lib\\site-packages (from stack-data->ipython->jupyter-dash) (0.2.2)\n",
      "Requirement already satisfied: asttokens in c:\\users\\farhanah\\anaconda3\\lib\\site-packages (from stack-data->ipython->jupyter-dash) (2.0.5)\n",
      "Requirement already satisfied: executing in c:\\users\\farhanah\\anaconda3\\lib\\site-packages (from stack-data->ipython->jupyter-dash) (0.8.3)\n"
     ]
    }
   ],
   "source": [
    "!pip3 install pandas dash\n",
    "!pip3 install jupyter-dash"
   ]
  },
  {
   "cell_type": "code",
   "execution_count": 3,
   "id": "52285585",
   "metadata": {},
   "outputs": [],
   "source": [
    "import pandas as pd\n",
    "import dash\n",
    "from dash import dcc\n",
    "from dash import html\n",
    "from dash.dependencies import Input, Output, State\n",
    "from jupyter_dash import JupyterDash\n",
    "import plotly.graph_objects as go\n",
    "import plotly.express as px\n",
    "from dash import no_update"
   ]
  },
  {
   "cell_type": "code",
   "execution_count": 4,
   "id": "ca620d2a",
   "metadata": {},
   "outputs": [
    {
     "name": "stdout",
     "output_type": "stream",
     "text": [
      "\r",
      "  0% [                                                                                ]    0 / 2476\r",
      "100% [................................................................................] 2476 / 2476"
     ]
    },
    {
     "data": {
      "text/plain": [
       "'spacex_launch_dash (8).csv'"
      ]
     },
     "execution_count": 4,
     "metadata": {},
     "output_type": "execute_result"
    }
   ],
   "source": [
    "import wget\n",
    "url = 'https://cf-courses-data.s3.us.cloud-object-storage.appdomain.cloud/IBM-DS0321EN-SkillsNetwork/datasets/spacex_launch_dash.csv'\n",
    "filename = wget.download(url)\n",
    "filename"
   ]
  },
  {
   "cell_type": "markdown",
   "id": "6adb7115",
   "metadata": {},
   "source": [
    "### 2. Read dataset"
   ]
  },
  {
   "cell_type": "code",
   "execution_count": 5,
   "id": "d379acd1",
   "metadata": {},
   "outputs": [],
   "source": [
    "spacex_df = pd.read_csv(\"spacex_launch_dash (1).csv\")"
   ]
  },
  {
   "cell_type": "code",
   "execution_count": 6,
   "id": "c71567a5",
   "metadata": {},
   "outputs": [
    {
     "name": "stdout",
     "output_type": "stream",
     "text": [
      "Dataset records:\n",
      "Rows     :  56\n",
      "Columns  :  7\n"
     ]
    }
   ],
   "source": [
    "print (\"Dataset records:\")\n",
    "print (\"Rows     : \" ,spacex_df.shape[0])\n",
    "print (\"Columns  : \" ,spacex_df.shape[1])"
   ]
  },
  {
   "cell_type": "markdown",
   "id": "43052a27",
   "metadata": {},
   "source": [
    "### 3. Create a dash application"
   ]
  },
  {
   "cell_type": "code",
   "execution_count": 7,
   "id": "37eeafb6",
   "metadata": {},
   "outputs": [],
   "source": [
    "app = JupyterDash(__name__)"
   ]
  },
  {
   "cell_type": "code",
   "execution_count": 8,
   "id": "240066d2",
   "metadata": {},
   "outputs": [],
   "source": [
    "app.config.suppress_callback_exceptions = True"
   ]
  },
  {
   "cell_type": "code",
   "execution_count": 10,
   "id": "10338bee",
   "metadata": {},
   "outputs": [],
   "source": [
    "JupyterDash.infer_jupyter_proxy_config()"
   ]
  },
  {
   "cell_type": "markdown",
   "id": "11e69cee",
   "metadata": {},
   "source": [
    "### 4. Plotly Dash"
   ]
  },
  {
   "cell_type": "code",
   "execution_count": null,
   "id": "f5cfbae3",
   "metadata": {},
   "outputs": [
    {
     "name": "stdout",
     "output_type": "stream",
     "text": [
      " * Serving Flask app '__main__' (lazy loading)\n",
      " * Environment: production\n",
      "\u001b[31m   WARNING: This is a development server. Do not use it in a production deployment.\u001b[0m\n",
      "\u001b[2m   Use a production WSGI server instead.\u001b[0m\n",
      " * Debug mode: off\n"
     ]
    },
    {
     "name": "stderr",
     "output_type": "stream",
     "text": [
      " * Running on http://127.0.0.1:8050/ (Press CTRL+C to quit)\n",
      "127.0.0.1 - - [20/Jun/2022 00:27:22] \"GET / HTTP/1.1\" 200 -\n",
      "127.0.0.1 - - [20/Jun/2022 00:27:22] \"GET /_dash-component-suites/dash/deps/react@16.v2_4_1m1652973876.14.0.min.js HTTP/1.1\" 200 -\n",
      "127.0.0.1 - - [20/Jun/2022 00:27:22] \"GET /_dash-component-suites/dash/deps/react-dom@16.v2_4_1m1652973876.14.0.min.js HTTP/1.1\" 200 -\n",
      "127.0.0.1 - - [20/Jun/2022 00:27:22] \"GET /_dash-component-suites/dash/deps/prop-types@15.v2_4_1m1652973875.8.1.min.js HTTP/1.1\" 200 -\n",
      "127.0.0.1 - - [20/Jun/2022 00:27:22] \"GET /_dash-component-suites/dash/deps/polyfill@7.v2_4_1m1652973875.12.1.min.js HTTP/1.1\" 200 -\n",
      "127.0.0.1 - - [20/Jun/2022 00:27:22] \"GET /_dash-component-suites/dash/dash-renderer/build/dash_renderer.v2_4_1m1652973874.min.js HTTP/1.1\" 200 -\n",
      "127.0.0.1 - - [20/Jun/2022 00:27:22] \"GET /_dash-component-suites/dash/dcc/dash_core_components.v2_4_0m1652973875.js HTTP/1.1\" 200 -\n",
      "127.0.0.1 - - [20/Jun/2022 00:27:22] \"GET /_dash-component-suites/dash/dcc/dash_core_components-shared.v2_4_0m1652973875.js HTTP/1.1\" 200 -\n",
      "127.0.0.1 - - [20/Jun/2022 00:27:22] \"GET /_dash-component-suites/dash/dash_table/bundle.v5_1_2m1652973874.js HTTP/1.1\" 200 -\n",
      "127.0.0.1 - - [20/Jun/2022 00:27:22] \"GET /_dash-component-suites/dash/html/dash_html_components.v2_0_3m1652973876.min.js HTTP/1.1\" 200 -\n",
      "127.0.0.1 - - [20/Jun/2022 00:27:22] \"GET /_dash-layout HTTP/1.1\" 200 -\n",
      "127.0.0.1 - - [20/Jun/2022 00:27:22] \"GET /_dash-dependencies HTTP/1.1\" 200 -\n",
      "127.0.0.1 - - [20/Jun/2022 00:27:22] \"GET /_favicon.ico?v=2.4.1 HTTP/1.1\" 200 -\n",
      "127.0.0.1 - - [20/Jun/2022 00:27:22] \"GET /_dash-component-suites/dash/dcc/async-dropdown.js HTTP/1.1\" 200 -\n",
      "127.0.0.1 - - [20/Jun/2022 00:27:22] \"GET /_dash-component-suites/dash/dcc/async-graph.js HTTP/1.1\" 200 -\n",
      "127.0.0.1 - - [20/Jun/2022 00:27:22] \"GET /_dash-component-suites/dash/dcc/async-slider.js HTTP/1.1\" 200 -\n",
      "127.0.0.1 - - [20/Jun/2022 00:27:22] \"GET /_dash-component-suites/dash/dcc/async-plotlyjs.js HTTP/1.1\" 200 -\n",
      "127.0.0.1 - - [20/Jun/2022 00:27:26] \"POST /_dash-update-component HTTP/1.1\" 200 -\n",
      "127.0.0.1 - - [20/Jun/2022 00:27:26] \"POST /_dash-update-component HTTP/1.1\" 200 -\n",
      "127.0.0.1 - - [20/Jun/2022 08:47:58] \"GET /_dash-component-suites/dash/deps/react@16.v2_4_1m1652973876.14.0.min.js HTTP/1.1\" 200 -\n",
      "127.0.0.1 - - [20/Jun/2022 08:47:58] \"GET /_dash-component-suites/dash/deps/prop-types@15.v2_4_1m1652973875.8.1.min.js HTTP/1.1\" 200 -\n",
      "127.0.0.1 - - [20/Jun/2022 08:47:58] \"GET /_dash-component-suites/dash/deps/polyfill@7.v2_4_1m1652973875.12.1.min.js HTTP/1.1\" 200 -\n",
      "127.0.0.1 - - [20/Jun/2022 08:47:58] \"GET /_dash-component-suites/dash/deps/react-dom@16.v2_4_1m1652973876.14.0.min.js HTTP/1.1\" 200 -\n",
      "127.0.0.1 - - [20/Jun/2022 08:47:58] \"GET /_dash-component-suites/dash/dcc/dash_core_components.v2_4_0m1652973875.js HTTP/1.1\" 200 -\n",
      "127.0.0.1 - - [20/Jun/2022 08:47:58] \"GET /_dash-component-suites/dash/dash-renderer/build/dash_renderer.v2_4_1m1652973874.min.js HTTP/1.1\" 200 -\n",
      "127.0.0.1 - - [20/Jun/2022 08:47:58] \"GET /_dash-component-suites/dash/dcc/dash_core_components-shared.v2_4_0m1652973875.js HTTP/1.1\" 200 -\n",
      "127.0.0.1 - - [20/Jun/2022 08:47:58] \"GET /_dash-component-suites/dash/dash_table/bundle.v5_1_2m1652973874.js HTTP/1.1\" 200 -\n",
      "127.0.0.1 - - [20/Jun/2022 08:47:58] \"GET /_dash-component-suites/dash/html/dash_html_components.v2_0_3m1652973876.min.js HTTP/1.1\" 200 -\n",
      "127.0.0.1 - - [20/Jun/2022 08:47:59] \"GET /_dash-layout HTTP/1.1\" 200 -\n",
      "127.0.0.1 - - [20/Jun/2022 08:47:59] \"GET /_dash-dependencies HTTP/1.1\" 200 -\n",
      "127.0.0.1 - - [20/Jun/2022 08:47:59] \"GET /_dash-component-suites/dash/dcc/async-dropdown.js HTTP/1.1\" 200 -\n",
      "127.0.0.1 - - [20/Jun/2022 08:47:59] \"GET /_dash-component-suites/dash/dcc/async-graph.js HTTP/1.1\" 200 -\n",
      "127.0.0.1 - - [20/Jun/2022 08:47:59] \"GET /_dash-component-suites/dash/dcc/async-slider.js HTTP/1.1\" 200 -\n",
      "127.0.0.1 - - [20/Jun/2022 08:47:59] \"GET /_dash-component-suites/dash/dcc/async-plotlyjs.js HTTP/1.1\" 200 -\n",
      "127.0.0.1 - - [20/Jun/2022 08:47:59] \"POST /_dash-update-component HTTP/1.1\" 200 -\n",
      "127.0.0.1 - - [20/Jun/2022 08:47:59] \"POST /_dash-update-component HTTP/1.1\" 200 -\n",
      "127.0.0.1 - - [20/Jun/2022 09:08:25] \"POST /_dash-update-component HTTP/1.1\" 200 -\n"
     ]
    }
   ],
   "source": [
    "# Read the airline data into pandas dataframe\n",
    "max_payload = spacex_df['Payload Mass (kg)'].max()\n",
    "min_payload = spacex_df['Payload Mass (kg)'].min()\n",
    "\n",
    "# Create a dash application\n",
    "app = dash.Dash(__name__)\n",
    "\n",
    "# Create an app layout\n",
    "app.layout = html.Div(children=[html.H1('SpaceX Launch Records Dashboard',\n",
    "                                        style={'textAlign': 'center', 'color': '#503D36',\n",
    "                                               'font-size': 40}),\n",
    "                                # TASK 1: Add a dropdown list to enable Launch Site selection\n",
    "                                # The default select value is for ALL sites\n",
    "                                # dcc.Dropdown(id='site-dropdown',...)\n",
    "                                html.Div(dcc.Dropdown(id='site-dropdown',\n",
    "                                                      options=[{'label': 'All Sites', 'value': 'ALL'}, \n",
    "                                                               {'label': 'CCAFS LC-40', 'value': 'CCAFS LC-40'}, \n",
    "                                                               {'label': 'VAFB SLC-4E', 'value': 'VAFB SLC-4E'}, \n",
    "                                                               {'label': 'KSC LC-39A', 'value': 'KSC LC-39A'}, \n",
    "                                                               {'label': 'CCAFS SLC-40', 'value': 'CCAFS SLC-40'}],\n",
    "                                                      value='ALL')),\n",
    "                                html.Br(),\n",
    "\n",
    "                                # TASK 2: Add a pie chart to show the total successful launches count for all sites\n",
    "                                # If a specific launch site was selected, show the Success vs. Failed counts for the site\n",
    "                                html.Div(dcc.Graph(id='success-pie-chart')),\n",
    "                                html.Br(),\n",
    "\n",
    "                                html.P(\"Payload range (Kg):\"),\n",
    "                                # TASK 3: Add a slider to select payload range\n",
    "                                #dcc.RangeSlider(id='payload-slider',...)\n",
    "                                html.Div(dcc.RangeSlider(id='payload-slider',\n",
    "                                                         min=0, max=10000, step=1000,\n",
    "                                                        marks={0: '0', 2500: '2500', 5000: '5000', 7500: '7500', 10000: '10000'},\n",
    "                                                        value=[0,2500]\n",
    "                                )),\n",
    "                                html.Br(),\n",
    "\n",
    "                                # TASK 4: Add a scatter chart to show the correlation between payload and launch success\n",
    "                                html.Div(dcc.Graph(id='success-payload-scatter-chart')),\n",
    "                                ])\n",
    "\n",
    "# TASK 2:\n",
    "# Add a callback function for `site-dropdown` as input, `success-pie-chart` as output\n",
    "# Function decorator to specify function input and output\n",
    "\n",
    "@app.callback(Output(component_id='success-pie-chart', component_property='figure'),\n",
    "              Input(component_id='site-dropdown', component_property='value'))\n",
    "\n",
    "def get_pie_chart(entered_site):\n",
    "    if entered_site == 'ALL':\n",
    "        filtered_df = spacex_df\n",
    "        fig = px.pie(filtered_df, values='class', \n",
    "        names='Launch Site', \n",
    "            title='Total Success Launches for All Sites')\n",
    "        return fig\n",
    "    else:\n",
    "        # return the outcomes piechart for a selected site\n",
    "        filtered_df = spacex_df[['Launch Site','class']][spacex_df['Launch Site']==entered_site].groupby('class',as_index=False).count()\n",
    "        filtered_df.rename(columns={\"Launch Site\": \"count\"},inplace=True)\n",
    "        fig = px.pie(filtered_df, values='count', \n",
    "        names='class', \n",
    "            title='Total Success Launches for ' + entered_site)\n",
    "        return fig\n",
    "\n",
    "# TASK 4:\n",
    "# Add a callback function for `site-dropdown` and `payload-slider` as inputs, `success-payload-scatter-chart` as output\n",
    "@app.callback(Output(component_id='success-payload-scatter-chart', component_property='figure'),\n",
    "              Input(component_id='site-dropdown', component_property='value'), \n",
    "              Input(component_id=\"payload-slider\", component_property=\"value\"))\n",
    "\n",
    "def get_scatter_chart(entered_site, entered_payload):\n",
    "    if entered_site == 'ALL':\n",
    "        filtered_df = spacex_df[(spacex_df['Payload Mass (kg)']>=entered_payload[0]) & (spacex_df['Payload Mass (kg)']<= entered_payload[1])]\n",
    "        fig = px.scatter(filtered_df, x='Payload Mass (kg)', y='class', color='Booster Version Category',\n",
    "            title='Correlation between Payload and Success for All Sites')        \n",
    "        return fig\n",
    "    else:\n",
    "        filtered_df = spacex_df[(spacex_df['Launch Site']==entered_site) & (spacex_df['Payload Mass (kg)']>=entered_payload[0]) & (spacex_df['Payload Mass (kg)']<= entered_payload[1])]\n",
    "        fig = px.scatter(filtered_df, x='Payload Mass (kg)', y='class', color='Booster Version Category',\n",
    "            title='Correlation between Payload and Success for ' + entered_site)\n",
    "        return fig\n",
    "\n",
    "# Run the app\n",
    "if __name__ == '__main__':\n",
    "    app.run_server()"
   ]
  }
 ],
 "metadata": {
  "kernelspec": {
   "display_name": "Python 3 (ipykernel)",
   "language": "python",
   "name": "python3"
  },
  "language_info": {
   "codemirror_mode": {
    "name": "ipython",
    "version": 3
   },
   "file_extension": ".py",
   "mimetype": "text/x-python",
   "name": "python",
   "nbconvert_exporter": "python",
   "pygments_lexer": "ipython3",
   "version": "3.8.5"
  }
 },
 "nbformat": 4,
 "nbformat_minor": 5
}
